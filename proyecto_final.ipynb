{
 "cells": [
  {
   "cell_type": "code",
   "execution_count": 90,
   "id": "5fb7bbf9",
   "metadata": {},
   "outputs": [],
   "source": [
    "import pandas as pd\n",
    "#Leemos el dataset original\n",
    "df = pd.read_csv('data/matriculaciones_educacion_escolar_basica_2020.csv')\n",
    "\n",
    "#Eliminamos una columna que no posee datos\n",
    "df.drop(columns='anho_cod_geo')\n",
    "\n",
    "\n",
    "#Renombrar nombre de las columnas\n",
    "df = df.rename(columns={\n",
    "    'anio':'año', 'nombre_departamento':'departamento', 'nombre_distrito': 'distrito', \n",
    "    'nombre_zona': 'zona', 'nombre_barrio_localidad': 'localidad', 'nombre_institucion': 'institucion', \n",
    "    'sector_o_tipo_gestion': 'sector'\n",
    "})\n",
    "\n",
    "\n",
    "#Indexacion y ordenamiento\n",
    "df = df.set_index('departamento')\n",
    "df = df.sort_values(['departamento', 'distrito', 'localidad'])\n",
    "\n",
    "\n",
    "#Limpieza de la columna 'nombre_barrio_localidad' ('localidad') y 'codigo_barrio_localidad'\n",
    "df.loc[\n",
    "    (df['localidad'] == 'LOCALIDAD DE CONFIRMAR') \n",
    "    | (df['localidad'] == 'LOCALIDAD A CONFIRMAR') \n",
    "    | (df['localidad'] == 'LOCALIDAD A  CONFIRMAR'), 'localidad'\n",
    "] = 'LOCALIDAD A CONFIRMAR'\n",
    "\n",
    "df.loc[df['localidad'] == 'LOCALIDAD A CONFIRMAR', 'codigo_barrio_localidad'] = '0'\n",
    "\n",
    "\n",
    "\n",
    "\n",
    "\n",
    "#df_departamento = df.groupby(['nombre_departamento']).agg({'total_matriculados_hombre':'sum', 'total_matriculados_mujer':'sum'})\n",
    "\n",
    "\n",
    "#exportar a csv\n",
    "df.to_csv('data/resumen_departamento_total.csv', encoding = 'utf-8-sig')\n",
    "\n",
    "\n"
   ]
  }
 ],
 "metadata": {
  "kernelspec": {
   "display_name": "Python 3.10.6 64-bit",
   "language": "python",
   "name": "python3"
  },
  "language_info": {
   "codemirror_mode": {
    "name": "ipython",
    "version": 3
   },
   "file_extension": ".py",
   "mimetype": "text/x-python",
   "name": "python",
   "nbconvert_exporter": "python",
   "pygments_lexer": "ipython3",
   "version": "3.10.6"
  },
  "vscode": {
   "interpreter": {
    "hash": "916dbcbb3f70747c44a77c7bcd40155683ae19c65e1c03b4aa3499c5328201f1"
   }
  }
 },
 "nbformat": 4,
 "nbformat_minor": 5
}
